{
  "nbformat": 4,
  "nbformat_minor": 0,
  "metadata": {
    "colab": {
      "name": "Untitled0.ipynb",
      "provenance": [],
      "authorship_tag": "ABX9TyMMN0Eqoic2I/DMIcfiXqNE",
      "include_colab_link": true
    },
    "kernelspec": {
      "name": "python3",
      "display_name": "Python 3"
    },
    "language_info": {
      "name": "python"
    }
  },
  "cells": [
    {
      "cell_type": "markdown",
      "metadata": {
        "id": "view-in-github",
        "colab_type": "text"
      },
      "source": [
        "<a href=\"https://colab.research.google.com/github/Fabio-TI/Fabio-TI/blob/main/Untitled0.ipynb\" target=\"_parent\"><img src=\"https://colab.research.google.com/assets/colab-badge.svg\" alt=\"Open In Colab\"/></a>"
      ]
    },
    {
      "cell_type": "code",
      "source": [
        "codigo_compra = 5111\n",
        "if codigo_compra == 5222:\n",
        "    print(\"compra à vista\")\n",
        "elif codigo_compra == 5333:\n",
        "    print(\"compra à prazo no boleto\")\n",
        "elif codigo_compra == 5444:\n",
        "    print(\"compra à prazo no cartão\")\n",
        "else:\n",
        "    print(\"Código não cadastrado\")"
      ],
      "metadata": {
        "colab": {
          "base_uri": "https://localhost:8080/"
        },
        "id": "j4e60dNwkyAm",
        "outputId": "3ed2cce0-2518-4170-ae50-f82bd58d0ec1"
      },
      "execution_count": null,
      "outputs": [
        {
          "output_type": "stream",
          "name": "stdout",
          "text": [
            "Código não cadastrado\n"
          ]
        }
      ]
    },
    {
      "cell_type": "code",
      "source": [
        "qtde_faltas = int(input(\"Digite a quantidade de faltas: \"))\n",
        "media_final = float(input(\"Digite a média final: \"))\n",
        "\n",
        "if qtde_faltas <= 5 and media_final >= 7:\n",
        "    print(\"aluno aprovado!\")\n",
        "else:\n",
        "    print(\"Aluno reprovado!\")\n",
        "    "
      ],
      "metadata": {
        "colab": {
          "base_uri": "https://localhost:8080/"
        },
        "id": "fwJ-XGQnmZat",
        "outputId": "19820ad4-178d-4d1e-ad1e-c1fceef035c6"
      },
      "execution_count": null,
      "outputs": [
        {
          "output_type": "stream",
          "name": "stdout",
          "text": [
            "Digite a quantidade de faltas: 4\n",
            "Digite a média final: 7\n",
            "aluno aprovado!\n"
          ]
        }
      ]
    },
    {
      "cell_type": "code",
      "source": [
        "A = 15\n",
        "B = 9\n",
        "C = 9\n",
        "\n",
        "print(B == C or A < B and A < C) #true or false and false = true\n",
        "print((B == C or A < B) and A < C) # (true or false) and false = false\n"
      ],
      "metadata": {
        "colab": {
          "base_uri": "https://localhost:8080/"
        },
        "id": "n1aO28nQn3Gb",
        "outputId": "5de61e2f-b0d3-4643-f9b4-4255e5a86958"
      },
      "execution_count": null,
      "outputs": [
        {
          "output_type": "stream",
          "name": "stdout",
          "text": [
            "True\n",
            "False\n"
          ]
        }
      ]
    },
    {
      "cell_type": "code",
      "source": [
        ""
      ],
      "metadata": {
        "id": "Nnlcq6vePfU4"
      },
      "execution_count": null,
      "outputs": []
    },
    {
      "cell_type": "code",
      "source": [
        "nome = \"GUIDO\"\n",
        "for i, c in enumerate (nome):\n",
        "  print(f\"Posição = {i}, valor = {c}\")\n",
        "  "
      ],
      "metadata": {
        "colab": {
          "base_uri": "https://localhost:8080/"
        },
        "id": "XUoGAcuoxTmx",
        "outputId": "8871eb04-4465-4bee-a98e-329775be9c24"
      },
      "execution_count": null,
      "outputs": [
        {
          "output_type": "stream",
          "name": "stdout",
          "text": [
            "Posição = 0, valor = G\n",
            "Posição = 1, valor = U\n",
            "Posição = 2, valor = I\n",
            "Posição = 3, valor = D\n",
            "Posição = 4, valor = O\n"
          ]
        }
      ]
    },
    {
      "cell_type": "code",
      "source": [
        "texto = \"\"\"\n",
        "A inserção de comentários no código do programa é uma prática normal.\n",
        "Em função disso, toda linguagem de programação tem alguma maneira de permitir  que comentários sejam inseridos nos programas.\n",
        "O objetivo é adicionar descrições em partes do código, seja para documentá-lo ou para adicionar uma descrição do algoritmo implementado (BANIN, p. 45, 2018).\n",
        "\"\"\"\n",
        "for i, c in enumerate(texto):\n",
        "  if c == 'a' or c =='e' or c == 'i' or c =='o' or c == 'u':\n",
        "    print(f\"Vogal '{c} encontrada, na posição {i}\")\n",
        "  else:\n",
        "    continue"
      ],
      "metadata": {
        "colab": {
          "base_uri": "https://localhost:8080/"
        },
        "id": "8r8Ju-uE0QXt",
        "outputId": "5535aa89-58bc-4983-f50a-16e1dfcc306f"
      },
      "execution_count": null,
      "outputs": [
        {
          "output_type": "stream",
          "name": "stdout",
          "text": [
            "Vogal 'i encontrada, na posição 3\n",
            "Vogal 'e encontrada, na posição 6\n",
            "Vogal 'o encontrada, na posição 10\n",
            "Vogal 'e encontrada, na posição 13\n",
            "Vogal 'o encontrada, na posição 16\n",
            "Vogal 'e encontrada, na posição 18\n",
            "Vogal 'i encontrada, na posição 23\n",
            "Vogal 'o encontrada, na posição 24\n",
            "Vogal 'o encontrada, na posição 28\n",
            "Vogal 'i encontrada, na posição 33\n",
            "Vogal 'o encontrada, na posição 35\n",
            "Vogal 'o encontrada, na posição 38\n",
            "Vogal 'o encontrada, na posição 42\n",
            "Vogal 'a encontrada, na posição 45\n",
            "Vogal 'a encontrada, na posição 47\n",
            "Vogal 'u encontrada, na posição 51\n",
            "Vogal 'a encontrada, na posição 53\n",
            "Vogal 'i encontrada, na posição 59\n",
            "Vogal 'a encontrada, na posição 61\n",
            "Vogal 'o encontrada, na posição 64\n",
            "Vogal 'a encontrada, na posição 67\n",
            "Vogal 'u encontrada, na posição 75\n",
            "Vogal 'o encontrada, na posição 79\n",
            "Vogal 'i encontrada, na posição 82\n",
            "Vogal 'o encontrada, na posição 85\n",
            "Vogal 'o encontrada, na posição 89\n",
            "Vogal 'a encontrada, na posição 91\n",
            "Vogal 'i encontrada, na posição 94\n",
            "Vogal 'u encontrada, na posição 97\n",
            "Vogal 'a encontrada, na posição 98\n",
            "Vogal 'e encontrada, na posição 100\n",
            "Vogal 'e encontrada, na posição 104\n",
            "Vogal 'o encontrada, na posição 108\n",
            "Vogal 'a encontrada, na posição 111\n",
            "Vogal 'a encontrada, na posição 113\n",
            "Vogal 'o encontrada, na posição 116\n",
            "Vogal 'e encontrada, na posição 119\n",
            "Vogal 'a encontrada, na posição 122\n",
            "Vogal 'u encontrada, na posição 125\n",
            "Vogal 'a encontrada, na posição 127\n",
            "Vogal 'a encontrada, na posição 130\n",
            "Vogal 'e encontrada, na posição 132\n",
            "Vogal 'i encontrada, na posição 133\n",
            "Vogal 'a encontrada, na posição 135\n",
            "Vogal 'e encontrada, na posição 138\n",
            "Vogal 'e encontrada, na posição 141\n",
            "Vogal 'i encontrada, na posição 144\n",
            "Vogal 'i encontrada, na posição 146\n",
            "Vogal 'u encontrada, na posição 151\n",
            "Vogal 'e encontrada, na posição 152\n",
            "Vogal 'o encontrada, na posição 155\n",
            "Vogal 'e encontrada, na posição 157\n",
            "Vogal 'i encontrada, na posição 162\n",
            "Vogal 'o encontrada, na posição 163\n",
            "Vogal 'e encontrada, na posição 167\n",
            "Vogal 'a encontrada, na posição 169\n",
            "Vogal 'i encontrada, na posição 172\n",
            "Vogal 'e encontrada, na posição 175\n",
            "Vogal 'i encontrada, na posição 177\n",
            "Vogal 'o encontrada, na posição 179\n",
            "Vogal 'o encontrada, na posição 183\n",
            "Vogal 'o encontrada, na posição 188\n",
            "Vogal 'a encontrada, na posição 191\n",
            "Vogal 'a encontrada, na posição 193\n",
            "Vogal 'o encontrada, na posição 199\n",
            "Vogal 'e encontrada, na posição 202\n",
            "Vogal 'i encontrada, na posição 204\n",
            "Vogal 'o encontrada, na posição 206\n",
            "Vogal 'a encontrada, na posição 210\n",
            "Vogal 'i encontrada, na posição 212\n",
            "Vogal 'i encontrada, na posição 214\n",
            "Vogal 'o encontrada, na posição 215\n",
            "Vogal 'a encontrada, na posição 217\n",
            "Vogal 'e encontrada, na posição 221\n",
            "Vogal 'i encontrada, na posição 225\n",
            "Vogal 'e encontrada, na posição 228\n",
            "Vogal 'e encontrada, na posição 231\n",
            "Vogal 'a encontrada, na posição 235\n",
            "Vogal 'e encontrada, na posição 238\n",
            "Vogal 'o encontrada, na posição 242\n",
            "Vogal 'i encontrada, na posição 247\n",
            "Vogal 'o encontrada, na posição 249\n",
            "Vogal 'e encontrada, na posição 253\n",
            "Vogal 'a encontrada, na posição 255\n",
            "Vogal 'a encontrada, na posição 258\n",
            "Vogal 'a encontrada, na posição 260\n",
            "Vogal 'o encontrada, na posição 263\n",
            "Vogal 'u encontrada, na posição 265\n",
            "Vogal 'e encontrada, na posição 267\n",
            "Vogal 'o encontrada, na posição 273\n",
            "Vogal 'o encontrada, na posição 275\n",
            "Vogal 'u encontrada, na posição 276\n",
            "Vogal 'a encontrada, na posição 279\n",
            "Vogal 'a encontrada, na posição 281\n",
            "Vogal 'a encontrada, na posição 283\n",
            "Vogal 'i encontrada, na posição 285\n",
            "Vogal 'i encontrada, na posição 287\n",
            "Vogal 'o encontrada, na posição 288\n",
            "Vogal 'a encontrada, na posição 290\n",
            "Vogal 'u encontrada, na posição 293\n",
            "Vogal 'a encontrada, na posição 295\n",
            "Vogal 'e encontrada, na posição 298\n",
            "Vogal 'i encontrada, na posição 302\n",
            "Vogal 'o encontrada, na posição 305\n",
            "Vogal 'o encontrada, na posição 308\n",
            "Vogal 'a encontrada, na posição 310\n",
            "Vogal 'o encontrada, na posição 313\n",
            "Vogal 'i encontrada, na posição 315\n",
            "Vogal 'o encontrada, na posição 318\n",
            "Vogal 'i encontrada, na posição 320\n",
            "Vogal 'e encontrada, na posição 324\n",
            "Vogal 'e encontrada, na posição 326\n",
            "Vogal 'a encontrada, na posição 329\n",
            "Vogal 'o encontrada, na posição 331\n"
          ]
        }
      ]
    },
    {
      "cell_type": "code",
      "execution_count": null,
      "metadata": {
        "colab": {
          "base_uri": "https://localhost:8080/"
        },
        "id": "KRg2_GMfByr0",
        "outputId": "d7f02745-7e41-4762-b5e9-6c686e821f7a"
      },
      "outputs": [
        {
          "output_type": "stream",
          "name": "stdout",
          "text": [
            "Hello World!\n"
          ]
        }
      ],
      "source": [
        "print('Hello World!');"
      ]
    },
    {
      "cell_type": "code",
      "source": [
        "vogais = ('A', 'E', 'I', 'O', 'U')\n",
        "print(f\"Tipo do objeto vogais = {type(vogais)}\")\n",
        "\n",
        "for p, x in enumerate(vogais):\n",
        "  print(f\"Posição = {p}, Vogal = {x}\")\n",
        "  "
      ],
      "metadata": {
        "colab": {
          "base_uri": "https://localhost:8080/"
        },
        "id": "cnYY-HrZxTkw",
        "outputId": "ce100d19-986e-4051-a13b-1e5c2d8601af"
      },
      "execution_count": null,
      "outputs": [
        {
          "output_type": "stream",
          "name": "stdout",
          "text": [
            "Tipo do objeto vogais = <class 'tuple'>\n",
            "Posição = 0, Vogal = A\n",
            "Posição = 1, Vogal = E\n",
            "Posição = 2, Vogal = I\n",
            "Posição = 3, Vogal = O\n",
            "Posição = 4, Vogal = U\n"
          ]
        }
      ]
    },
    {
      "cell_type": "code",
      "source": [
        "      x=10\n",
        "      nome = 'aluno'\n",
        "      nota = 8.75\n",
        "      fez_inscricao = True\n",
        "      \n",
        "      print(type(x))#Esse comentário não aparecerá\n",
        "      print(type(nome))\n",
        "      print(type(nota))\n",
        "      print(type(fez_inscricao))"
      ],
      "metadata": {
        "colab": {
          "base_uri": "https://localhost:8080/"
        },
        "id": "mF73OVFHDrxr",
        "outputId": "cee6b52e-f46f-4297-fbfc-79aa75a8b1f1"
      },
      "execution_count": null,
      "outputs": [
        {
          "output_type": "stream",
          "name": "stdout",
          "text": [
            "<class 'int'>\n",
            "<class 'str'>\n",
            "<class 'float'>\n",
            "<class 'bool'>\n"
          ]
        }
      ]
    },
    {
      "cell_type": "code",
      "source": [
        "nome = input('Digite seu nome: ')\n",
        "print(nome)\n",
        "print(f\"Olá {nome}, bem vindo a disciplina de programação, Parabéns pelo seu primeiro hello world!\")"
      ],
      "metadata": {
        "colab": {
          "base_uri": "https://localhost:8080/"
        },
        "id": "_bXXnagFFfQ-",
        "outputId": "4cde6414-29a5-4b1f-d31e-24330f663635"
      },
      "execution_count": null,
      "outputs": [
        {
          "output_type": "stream",
          "name": "stdout",
          "text": [
            "Digite seu nome: Fábio Junio\n",
            "Fábio Junio\n",
            "Olá Fábio Junio, bem vindo a disciplina de programação, Parabéns pelo seu primeiro hello world!\n"
          ]
        }
      ]
    },
    {
      "cell_type": "code",
      "source": [
        "operacao_1 = 2 + 3 * 5 # qual o resultado armazenado na variável: 25 ou 17?\n",
        "\n",
        "operacao_2 = (2 + 3) * 5 # qual o resultado armazenado na variável: 25 ou 17?\n",
        "\n",
        "operacao_3 = 4 / 2 ** 2 # qual o resultado armazenado na variável: 4 ou 1?\n",
        "\n",
        "operacao_4 = 13 % 3 + 4 # qual o resultado armazenado na variável: 8 ou 5?\n",
        "\n",
        "print(f\"Resultado em operação 1 = {operacao_1}\")\n",
        "\n",
        "print(f\"Resultado em operação 2 = {operacao_2}\")\n",
        "\n",
        "print(f\"Resultado em operação 3 = {operacao_3}\")\n",
        "\n",
        "print(f\"Resultado em operação 4 = {operacao_4}\")\n"
      ],
      "metadata": {
        "colab": {
          "base_uri": "https://localhost:8080/"
        },
        "id": "WskcFLuQMk1G",
        "outputId": "a04ea497-c32a-4e10-91cf-be497c00e2ec"
      },
      "execution_count": null,
      "outputs": [
        {
          "output_type": "stream",
          "name": "stdout",
          "text": [
            "Resultado em operação 1 = 17\n",
            "Resultado em operação 2 = 25\n",
            "Resultado em operação 3 = 1.0\n",
            "Resultado em operação 4 = 5\n"
          ]
        }
      ]
    },
    {
      "cell_type": "code",
      "source": [
        "a = 2\n",
        "b = 0.5\n",
        "c = 1\n",
        "\n",
        "x = input(\"Digite o valor de x: \")\n",
        "x = float(x) # Conversão do input str para float\n",
        "y = a * x ** 2 + b * x + c\n",
        "\n",
        "print(f\"O resultado de y para x = {x} é {y}.\")\n"
      ],
      "metadata": {
        "colab": {
          "base_uri": "https://localhost:8080/"
        },
        "id": "U08ikHsfOtK1",
        "outputId": "5a3dfacc-3324-4ef3-9b6a-2b04cb0c643c"
      },
      "execution_count": null,
      "outputs": [
        {
          "output_type": "stream",
          "name": "stdout",
          "text": [
            "Digite o valor de x: 3\n",
            "O resultado de y para x = 3.0 é 20.5.\n"
          ]
        }
      ]
    },
    {
      "cell_type": "code",
      "source": [
        "c = 200 # valor da contante\n",
        "\n",
        "mes = input(\"Digite a quantidade de mese para produção: \")\n",
        "mes = int(mes) # conversão da variável\n",
        "\n",
        "r = c * mes # equação do primeiro grau, considerando meses e constante\n",
        "print(f\"A quantidade de peças para o mês {mes} será {r}\") # Impressão do resultado usando string interpolada \"f-strings\" (PEP 498)."
      ],
      "metadata": {
        "colab": {
          "base_uri": "https://localhost:8080/"
        },
        "id": "4Kp6X7doRfsh",
        "outputId": "f19a54f7-b610-45dc-f264-c66644814837"
      },
      "execution_count": null,
      "outputs": [
        {
          "output_type": "stream",
          "name": "stdout",
          "text": [
            "Digite a quantidade de mese para produção: 36\n",
            "A quantidade de peças para o mês 36 será 7200\n"
          ]
        }
      ]
    },
    {
      "cell_type": "code",
      "source": [
        "numero = 1\n",
        "while numero != 0:\n",
        "    numero = int(input(\"Digite um número: \"))\n",
        "    if numero % 2 == 0:\n",
        "        print(\"Número par!\")\n",
        "    else:\n",
        "        print(\"Número ímpar!\")\n"
      ],
      "metadata": {
        "colab": {
          "base_uri": "https://localhost:8080/"
        },
        "id": "iIni7lEgqS2W",
        "outputId": "e9a62b7f-7a41-4c69-df54-a315820215be"
      },
      "execution_count": null,
      "outputs": [
        {
          "output_type": "stream",
          "name": "stdout",
          "text": [
            "Digite um número: -2\n",
            "Número par!\n",
            "Digite um número: 1\n",
            "Número ímpar!\n",
            "Digite um número: 0\n",
            "Número par!\n"
          ]
        }
      ]
    },
    {
      "cell_type": "code",
      "source": [
        "salario = 0\n",
        "salario = float(input(\"Digite seu salário: \"))\n",
        "\n",
        "if salario <= 1903.98:\n",
        "    print(\"Colaborador isento de impostos!\")\n",
        "    print(f\"Seu salário deste mês = RS {salario}\")\n",
        "elif salario <= 2826.65:\n",
        "    print(f\"O colaborador deverá pagar R$ 142.80 de imposto.\")\n",
        "    print(f\"Seu salário deste mês = RS {salario - 142.80}\")\n",
        "elif salario <= 3751.04:\n",
        "    print(f\"O colaborador deverá pagar R$ 354.80 de imposto.\")\n",
        "    print(f\"Seu salário deste mês = RS {salario - 354.80}\")\n",
        "elif salario <= 4664.67:\n",
        "    print(f\"O colaborador deverá pagar R$ 636.13 de imposto.\")\n",
        "    print(f\"Seu salário deste mês = RS {salario - 636.13}\")\n",
        "else:\n",
        "    print(f\"O colaborador deverá pagar R$ 869.36 de imposto.\")\n",
        "    print(f\"Seu salário deste mês = RS {salario - 869.36}\")\n"
      ],
      "metadata": {
        "colab": {
          "base_uri": "https://localhost:8080/"
        },
        "id": "V9IhTkvuPnCm",
        "outputId": "5b4c3c13-399f-49e2-ede8-e2241dfbdeda"
      },
      "execution_count": null,
      "outputs": [
        {
          "output_type": "stream",
          "name": "stdout",
          "text": [
            "Digite seu salário: 5000\n",
            "O colaborador deverá pagar R$ 869.36 de imposto.\n",
            "Seu salário deste mês = RS 4130.64\n"
          ]
        }
      ]
    },
    {
      "cell_type": "code",
      "source": [
        "a = 2\n",
        "b = 1\n",
        "\n",
        "equacao = input(\"Digite a fórmula geral da equação linear (a * x + b): \")\n",
        "print(f\"\\nA entrada do usuário {equacao} é do tipo {type(equacao)}\")\n",
        "\n",
        "for x in range(5):\n",
        "    y = eval(equacao)\n",
        "    print(f\"\\nResultado da equação para x = {x} é {y}\")\n"
      ],
      "metadata": {
        "colab": {
          "base_uri": "https://localhost:8080/"
        },
        "id": "JJdJTZztYFtm",
        "outputId": "a9894532-2a49-448a-e6ad-a191ac2102d2"
      },
      "execution_count": null,
      "outputs": [
        {
          "output_type": "stream",
          "name": "stdout",
          "text": [
            "Digite a fórmula geral da equação linear (a * x + b): 5*x+b\n",
            "\n",
            "A entrada do usuário 5*x+b é do tipo <class 'str'>\n",
            "\n",
            "Resultado da equação para x = 0 é 1\n",
            "\n",
            "Resultado da equação para x = 1 é 6\n",
            "\n",
            "Resultado da equação para x = 2 é 11\n",
            "\n",
            "Resultado da equação para x = 3 é 16\n",
            "\n",
            "Resultado da equação para x = 4 é 21\n"
          ]
        }
      ]
    },
    {
      "cell_type": "code",
      "source": [
        "def imprimir_mensagem(disciplina, curso): #definir no início da linha o nome da função entre () dispomos os parâmetros\n",
        "  return f\"\\nMinha primiera função criada em Python desenvolvida na disciplina: {disciplina}, do curso: {curso}.\"\n",
        "\n",
        "mensagem = imprimir_mensagem(\"Python\", \"ADS\")\n",
        "print(mensagem)"
      ],
      "metadata": {
        "colab": {
          "base_uri": "https://localhost:8080/"
        },
        "id": "Eb_00Nw0bh5s",
        "outputId": "3a78f9b2-f2fa-4e14-8b15-84865aa72dbc"
      },
      "execution_count": null,
      "outputs": [
        {
          "output_type": "stream",
          "name": "stdout",
          "text": [
            "\n",
            "Minha primiera função criada em Python desenvolvida na disciplina: Python, do curso: ADS.\n"
          ]
        }
      ]
    },
    {
      "cell_type": "code",
      "source": [
        "def converter_mes_para_extenso(data):\n",
        "  mes = \"\"\"janeiro fevereiro março abril maio junho\n",
        "        julho agosto setembro outubro novembro dezembro\"\"\".split()\n",
        "  d, m, a = data.split('/')\n",
        "  mes_extenso = mes[int(m) - 1] # o mês 1, estará na posição 0!\n",
        "  return f\"{d} de {mes_extenso} de {a}\"\n",
        "\n",
        "print(converter_mes_para_extenso(\"10/05/2021\"))\n"
      ],
      "metadata": {
        "colab": {
          "base_uri": "https://localhost:8080/"
        },
        "id": "R8TFDYV3fJON",
        "outputId": "b670527b-cc95-4658-d4e5-d0485e721b76"
      },
      "execution_count": null,
      "outputs": [
        {
          "output_type": "stream",
          "name": "stdout",
          "text": [
            "10 de maio de 2021\n"
          ]
        }
      ]
    },
    {
      "cell_type": "code",
      "source": [
        "def converter_maiusculas(texto, flag_maiuscula):\n",
        "    if flag_maiuscula:\n",
        "        return texto.upper()\n",
        "    else:\n",
        "        return texto.lower()\n",
        "texto = converter_maiusculas(texto=\"João\", flag_maiuscula=True)\n",
        "print(texto)\n"
      ],
      "metadata": {
        "colab": {
          "base_uri": "https://localhost:8080/"
        },
        "id": "mmPVQHPwl9jR",
        "outputId": "fc929cc5-bb38-4025-f195-7ac9cea12a3e"
      },
      "execution_count": null,
      "outputs": [
        {
          "output_type": "stream",
          "name": "stdout",
          "text": [
            "JOÃO\n"
          ]
        }
      ]
    },
    {
      "cell_type": "code",
      "source": [
        ""
      ],
      "metadata": {
        "id": "jyB2Ey4slJAC"
      },
      "execution_count": null,
      "outputs": []
    },
    {
      "cell_type": "code",
      "source": [
        "def calcular_valor(valor_prod, qtde, moeda=\"real\", desconto=None, acrescimo=None):\n",
        "  v_bruto = valor_prod * qtde\n",
        "\n",
        "  if desconto:\n",
        "    v_liquido = v_bruto - (v_bruto * (desconto / 100))\n",
        "  elif acrescimo:\n",
        "    v_liquido = v_bruto + (v_bruto * (acrescimo / 100))\n",
        "  else:\n",
        "    v_liquido = v_bruto\n",
        "\n",
        "  if moeda == 'real':\n",
        "    return v_liquido\n",
        "  elif moeda == 'dolar':\n",
        "    return v_liquido * 5\n",
        "  elif moeda == 'euro':\n",
        "    return v_liquido * 5.7\n",
        "  else:\n",
        "    print(\"Moeda não cadastrada\")\n",
        "    return 0\n",
        "\n",
        "valor_a_pagar = calcular_valor(valor_prod=32, qtde=5, desconto=5)\n",
        "print(f\"O valor final da conta é {valor_a_pagar}\")\n"
      ],
      "metadata": {
        "colab": {
          "base_uri": "https://localhost:8080/"
        },
        "id": "8W_gmTKjxWYG",
        "outputId": "fd66bda8-5fb6-4dbc-e6d0-08a05b55c47c"
      },
      "execution_count": null,
      "outputs": [
        {
          "output_type": "stream",
          "name": "stdout",
          "text": [
            "O valor final da conta é 152.0\n"
          ]
        }
      ]
    },
    {
      "cell_type": "code",
      "source": [
        "texto = \"Aprendendo Python na disciplina de linguagem de programação.\"\n",
        "print(f\"Tamanho do texto = {len(texto)}\")\n",
        "print(f\"Python in texto = {'Python' in texto}\")\n",
        "print(f\"Quantidade de y no texto = {texto.count('y')}\")\n",
        "print(f\"As primeiras 5 letras são: {texto[0:6]}\")\n"
      ],
      "metadata": {
        "colab": {
          "base_uri": "https://localhost:8080/"
        },
        "id": "VTBy01XXlOMq",
        "outputId": "996da304-2ebb-44fe-df79-dad22b4a6001"
      },
      "execution_count": null,
      "outputs": [
        {
          "output_type": "stream",
          "name": "stdout",
          "text": [
            "Tamanho do texto = 60\n",
            "Python in texto = True\n",
            "Quantidade de y no texto = 1\n",
            "As primeiras 5 letras são: Aprend\n"
          ]
        }
      ]
    },
    {
      "cell_type": "code",
      "source": [
        "texto = \"Aprendendo Python na disciplina de linguagem de programação.\"\n",
        "print(texto.upper())\n",
        "print(texto.replace('i', 'XX'))"
      ],
      "metadata": {
        "colab": {
          "base_uri": "https://localhost:8080/"
        },
        "id": "mw3wSFcMnU2C",
        "outputId": "2e1784c8-3393-4a19-ef91-6328887172c0"
      },
      "execution_count": null,
      "outputs": [
        {
          "output_type": "stream",
          "name": "stdout",
          "text": [
            "APRENDENDO PYTHON NA DISCIPLINA DE LINGUAGEM DE PROGRAMAÇÃO.\n",
            "Aprendendo Python na dXXscXXplXXna de lXXnguagem de programação.\n"
          ]
        }
      ]
    },
    {
      "cell_type": "code",
      "source": [
        "texto = \"Aprendendo Python na disciplina de linguagem de programação.\"\n",
        "print(f\"texto = {texto}\")\n",
        "print(f\"Tamanho do texto = {len(texto)}\\n\")\n",
        "\n",
        "palavras = texto.split()\n",
        "print(f\"palavras = {palavras}\")\n",
        "print(f\"Tamanho do texto = {len(palavras)}\")"
      ],
      "metadata": {
        "colab": {
          "base_uri": "https://localhost:8080/"
        },
        "id": "rbZf-OtMn-2R",
        "outputId": "d4e173aa-4bd3-4c74-ecdf-74a61aaa9bfb"
      },
      "execution_count": null,
      "outputs": [
        {
          "output_type": "stream",
          "name": "stdout",
          "text": [
            "texto = Aprendendo Python na disciplina de linguagem de programação.\n",
            "Tamanho do texto = 60\n",
            "\n",
            "palavras = ['Aprendendo', 'Python', 'na', 'disciplina', 'de', 'linguagem', 'de', 'programação.']\n",
            "Tamanho do texto = 8\n"
          ]
        }
      ]
    },
    {
      "cell_type": "code",
      "source": [
        "texto = \"\"\"Operadores de String\n",
        "Python oferece operadores para processar texto (ou seja, valores de string).\n",
        "Assim como os números, as strings podem ser comparadas usando operadores de comparação:\n",
        "==, \"=, <, > e assim por diante.\n",
        "O operador ==, por exemplo, retorna True se as strings nos dois lados do operador tiverem o mesmo valor (Perkovic, p. 23, 2016).\n",
        "\"\"\"\n",
        "\n",
        "print(f\"Tamanho do texto = {len(texto)}\")\n",
        "texto = texto.lower()\n",
        "texto = texto.replace(\",\", \"\").replace(\"(\", \"\").replace (\")\", \"\"). replace(\"\\r\", \" \")\n",
        "lista_palavra = texto.split()\n",
        "print(f\"Tamanho da lista de palvras = {len(lista_palavra)}\")\n",
        "\n",
        "total = lista_palavra.count(\"string\") + lista_palavra.count(\"strings\")\n",
        "\n",
        "print(f\"Quantidade de vezes que string ou strings aparecem = {total}\")\n"
      ],
      "metadata": {
        "colab": {
          "base_uri": "https://localhost:8080/"
        },
        "id": "0YGHftaKpBCk",
        "outputId": "2b2c020d-858d-4f5f-add1-165f43637308"
      },
      "execution_count": null,
      "outputs": [
        {
          "output_type": "stream",
          "name": "stdout",
          "text": [
            "Tamanho do texto = 348\n",
            "Tamanho da lista de palvras = 58\n",
            "Quantidade de vezes que string ou strings aparecem = 3\n"
          ]
        }
      ]
    },
    {
      "cell_type": "code",
      "source": [
        "vogais = ['a', 'e', 'i', 'o', 'u']\n",
        "\n",
        "for vogal in vogais:\n",
        "  print(f\"Posição = {vogais.index(vogal)}, valor = {vogal}\")\n"
      ],
      "metadata": {
        "colab": {
          "base_uri": "https://localhost:8080/"
        },
        "id": "e2lFRAfNu9nI",
        "outputId": "4c0b5c0f-d0d6-4aba-b574-d77e29bc980c"
      },
      "execution_count": null,
      "outputs": [
        {
          "output_type": "stream",
          "name": "stdout",
          "text": [
            "Posição = 0, valor = a\n",
            "Posição = 1, valor = e\n",
            "Posição = 2, valor = i\n",
            "Posição = 3, valor = o\n",
            "Posição = 4, valor = u\n"
          ]
        }
      ]
    },
    {
      "cell_type": "code",
      "source": [
        "vogais = []\n",
        "print(f\"Tipo do objeto vogais = {type(vogais)}\")\n",
        "\n",
        "vogais.append('a')\n",
        "vogais.append('e')\n",
        "vogais.append('i')\n",
        "vogais.append('o')\n",
        "vogais.append('u')\n",
        "\n",
        "for p, x in enumerate(vogais):\n",
        "  print(f\"Posição = {p}, valor = {x}\")\n"
      ],
      "metadata": {
        "colab": {
          "base_uri": "https://localhost:8080/"
        },
        "id": "Fs90fAT-vtQv",
        "outputId": "097e9b70-04ca-47d7-cb71-203f23dd4d53"
      },
      "execution_count": null,
      "outputs": [
        {
          "output_type": "stream",
          "name": "stdout",
          "text": [
            "Tipo do objeto vogais = <class 'list'>\n",
            "Posição = 0, valor = a\n",
            "Posição = 1, valor = e\n",
            "Posição = 2, valor = i\n",
            "Posição = 3, valor = o\n",
            "Posição = 4, valor = u\n"
          ]
        }
      ]
    },
    {
      "cell_type": "code",
      "source": [
        "frutas = ['maçã', 'banana', 'uva', 'mamão', 'maçã']\n",
        "notas = [8.7, 5.2, 10, 3.5]\n",
        "\n",
        "print(f\"maçã\" in frutas)\n",
        "print(f\"abacate\" in frutas)\n",
        "print(f\"abacate\" not in frutas)\n",
        "print(min(frutas))\n",
        "print(max(notas))\n",
        "print(frutas.count(\"maçã\"))\n",
        "print(frutas + notas)\n",
        "print(2 * frutas)\n"
      ],
      "metadata": {
        "colab": {
          "base_uri": "https://localhost:8080/"
        },
        "id": "gr_cPOfOxAxO",
        "outputId": "832d8972-5284-4caf-e672-72f6104899c4"
      },
      "execution_count": null,
      "outputs": [
        {
          "output_type": "stream",
          "name": "stdout",
          "text": [
            "True\n",
            "False\n",
            "True\n",
            "banana\n",
            "10\n",
            "2\n",
            "['maçã', 'banana', 'uva', 'mamão', 'maçã', 8.7, 5.2, 10, 3.5]\n",
            "['maçã', 'banana', 'uva', 'mamão', 'maçã', 'maçã', 'banana', 'uva', 'mamão', 'maçã']\n"
          ]
        }
      ]
    },
    {
      "cell_type": "code",
      "source": [
        "lista = ['Python', 30.61, 'Java', 51, ['a', 'b', 20], 'maçã']\n",
        "print(f\"Tamanho da lista = {len(lista)}\")\n",
        "\n",
        "for i, item in enumerate(lista):\n",
        "  print(f\"Posição = {i}, \\t valor = {item} ------------------------> tipo individual = {type(item)}\")\n",
        "print(\"\\nExemplos de slices:\\n\")\n",
        "\n",
        "print(\"lista[1] = \", lista[1])\n",
        "print(\"lista[0:2] = \", lista[0:2])\n",
        "print(\"lista[:2] = \", lista[:2])\n",
        "print(\"lista[3:5] = \", lista[3:5])\n",
        "print(\"lista[3:6] = \", lista[3:6])\n",
        "print(\"lista[3:] = \", lista[3:])\n",
        "print(\"lista[-2] = \", lista[-2])\n",
        "print(\"lista[-1] = \", lista[-1])\n",
        "print(\"lista[4][1] = \", lista[4][1])"
      ],
      "metadata": {
        "colab": {
          "base_uri": "https://localhost:8080/"
        },
        "id": "D_Q8hCDHy_00",
        "outputId": "857dc90d-c634-4e62-cb27-38a1d3c1a95d"
      },
      "execution_count": null,
      "outputs": [
        {
          "output_type": "stream",
          "name": "stdout",
          "text": [
            "Tamanho da lista = 6\n",
            "Posição = 0, \t valor = Python ------------------------> tipo individual = <class 'str'>\n",
            "Posição = 1, \t valor = 30.61 ------------------------> tipo individual = <class 'float'>\n",
            "Posição = 2, \t valor = Java ------------------------> tipo individual = <class 'str'>\n",
            "Posição = 3, \t valor = 51 ------------------------> tipo individual = <class 'int'>\n",
            "Posição = 4, \t valor = ['a', 'b', 20] ------------------------> tipo individual = <class 'list'>\n",
            "Posição = 5, \t valor = maçã ------------------------> tipo individual = <class 'str'>\n",
            "\n",
            "Exemplos de slices:\n",
            "\n",
            "lista[1] =  30.61\n",
            "lista[0:2] =  ['Python', 30.61]\n",
            "lista[:2] =  ['Python', 30.61]\n",
            "lista[3:5] =  [51, ['a', 'b', 20]]\n",
            "lista[3:6] =  [51, ['a', 'b', 20], 'maçã']\n",
            "lista[3:] =  [51, ['a', 'b', 20], 'maçã']\n",
            "lista[-2] =  ['a', 'b', 20]\n",
            "lista[-1] =  maçã\n",
            "lista[4][1] =  b\n"
          ]
        }
      ]
    },
    {
      "cell_type": "code",
      "source": [
        "linguagens = \"\"\"Python Java JavaScript C C# C++ Swift GO Kotlin\"\"\".split()\n",
        "\n",
        "print(\"Antes da listcomp = \", linguagens)\n",
        "\n",
        "linguagens = [item.lower() for item in linguagens]\n",
        "print(\"\\nDepois da listcomp = \", linguagens)"
      ],
      "metadata": {
        "colab": {
          "base_uri": "https://localhost:8080/"
        },
        "id": "j9Sa_cdU4UzM",
        "outputId": "90974eea-be21-4ff1-dd26-b1dda21be384"
      },
      "execution_count": null,
      "outputs": [
        {
          "output_type": "stream",
          "name": "stdout",
          "text": [
            "Antes da listcomp =  ['Python', 'Java', 'JavaScript', 'C', 'C#', 'C++', 'Swift', 'GO', 'Kotlin']\n",
            "\n",
            "Depois da listcomp =  ['python', 'java', 'javascript', 'c', 'c#', 'c++', 'swift', 'go', 'kotlin']\n"
          ]
        }
      ]
    },
    {
      "cell_type": "code",
      "source": [
        "vogais_1 = {'aeiou'} # sem uso de contrutor\n",
        "print(type(vogais_1), vogais_1)\n",
        "\n",
        "vogais_2 = set('aeiouaaaaaa') # construtor com string\n",
        "print(type(vogais_2), vogais_2)\n",
        "\n",
        "vogais_3 = set(['a', 'e', 'i', 'o', 'u']) # construtor com lista\n",
        "print(type(vogais_3), vogais_3)\n",
        "\n",
        "vogais_4 = set(('a', 'e', 'i', 'o', 'u')) # construtor com tupla\n",
        "print(type(vogais_4), vogais_4)\n",
        "\n",
        "word_1 = {'banana'} \n",
        "print(type(word_1), word_1)"
      ],
      "metadata": {
        "colab": {
          "base_uri": "https://localhost:8080/"
        },
        "id": "P6eTW9Uiyact",
        "outputId": "a4237005-922d-4097-80eb-c403211b807f"
      },
      "execution_count": null,
      "outputs": [
        {
          "output_type": "stream",
          "name": "stdout",
          "text": [
            "<class 'set'> {'aeiou'}\n",
            "<class 'set'> {'e', 'u', 'i', 'a', 'o'}\n",
            "<class 'set'> {'e', 'u', 'i', 'a', 'o'}\n",
            "<class 'set'> {'e', 'u', 'i', 'a', 'o'}\n",
            "<class 'set'> {'banana'}\n"
          ]
        }
      ]
    },
    {
      "cell_type": "code",
      "source": [
        "def create_report():\n",
        "  componentes_verificados = set(['caixas de som', 'cooler', 'dissipador de calor', 'cpu', 'hd', 'estabilizador', 'gabinete', 'hub', 'impressora', 'joystick', 'memória ram', 'microfone', 'modem', 'monitor', 'mouse', \n",
        "                                 'no break', 'placa de captura', 'placa de som', 'placa de vídeo', 'placa mãe', 'scanner', 'teclado', 'webcam'])\n",
        "  componentes_com_defeito = set(['hd', 'placa de som', 'monitor', 'scanner'])\n",
        "  qtde_componentes_verificados = len(componentes_verificados)\n",
        "  qtde_componentes_com_defeito = len(componentes_com_defeito)\n",
        "  componentes_ok = componentes_verificados.difference(componentes_com_defeito)\n",
        "\n",
        "  print(f\"Foram verificados {qtde_componentes_verificados} componentes.\\n\")\n",
        "  print(f\"{qtde_componentes_com_defeito} componentes apresentaram defeito.\\n\")\n",
        "\n",
        "  print(f\"Os componentes que podem ser vendidos são:\")\n",
        "\n",
        "  for item in componentes_ok:\n",
        "     print(item)\n",
        "\n",
        "create_report()"
      ],
      "metadata": {
        "colab": {
          "base_uri": "https://localhost:8080/"
        },
        "id": "F9Ec_tKN1urz",
        "outputId": "4985d753-7a21-4db5-d556-c0e84637d7b4"
      },
      "execution_count": null,
      "outputs": [
        {
          "output_type": "stream",
          "name": "stdout",
          "text": [
            "Foram verificados 23 componentes.\n",
            "\n",
            "4 componentes apresentaram defeito.\n",
            "\n",
            "Os componentes que podem ser vendidos são:\n",
            "joystick\n",
            "memória ram\n",
            "microfone\n",
            "cooler\n",
            "webcam\n",
            "impressora\n",
            "placa de captura\n",
            "modem\n",
            "estabilizador\n",
            "dissipador de calor\n",
            "mouse\n",
            "placa mãe\n",
            "cpu\n",
            "gabinete\n",
            "teclado\n",
            "caixas de som\n",
            "no break\n",
            "placa de vídeo\n",
            "hub\n"
          ]
        }
      ]
    },
    {
      "cell_type": "code",
      "source": [
        "cadastro = {\n",
        "    'nome' : ['João', 'Ana', 'Pedro', 'Marcela'],\n",
        "    'cidade' : ['São Paulo', 'São Paulo', 'Rio de Janeiro', 'Curitiba'],\n",
        "    'idade' : [25, 33, 37, 18]\n",
        "            }\n",
        "print(\"len(cadastro) = \", len(cadastro))\n",
        "\n",
        "print(\"\\n cadastro.keys() = \\n\", cadastro.keys())\n",
        "print(\"\\n cadastro.values() = \\n\", cadastro.values())\n",
        "print(\"\\n cadastro.items() = \\n\", cadastro.items())\n",
        "\n",
        "print(\"\\n cadastro['nome'] = \\n\", cadastro['nome'])\n",
        "print(\"\\n cadastro['nome'][2] = \\n\", cadastro['nome'][2])\n",
        "print(\"\\n cadastro['idade'][2:] = \\n\", cadastro['idade'][2:])\n"
      ],
      "metadata": {
        "colab": {
          "base_uri": "https://localhost:8080/"
        },
        "id": "K-96awM2AM5N",
        "outputId": "7f9abb8a-41f8-4e2d-eb9d-3e04debfdaeb"
      },
      "execution_count": null,
      "outputs": [
        {
          "output_type": "stream",
          "name": "stdout",
          "text": [
            "len(cadastro) =  3\n",
            "\n",
            " cadastro.keys() = \n",
            " dict_keys(['nome', 'cidade', 'idade'])\n",
            "\n",
            " cadastro.values() = \n",
            " dict_values([['João', 'Ana', 'Pedro', 'Marcela'], ['São Paulo', 'São Paulo', 'Rio de Janeiro', 'Curitiba'], [25, 33, 37, 18]])\n",
            "\n",
            " cadastro.items() = \n",
            " dict_items([('nome', ['João', 'Ana', 'Pedro', 'Marcela']), ('cidade', ['São Paulo', 'São Paulo', 'Rio de Janeiro', 'Curitiba']), ('idade', [25, 33, 37, 18])])\n",
            "\n",
            " cadastro['nome'] = \n",
            " ['João', 'Ana', 'Pedro', 'Marcela']\n",
            "\n",
            " cadastro['nome'][2] = \n",
            " Pedro\n",
            "\n",
            " cadastro['idade'][2:] = \n",
            " [37, 18]\n"
          ]
        }
      ]
    },
    {
      "cell_type": "code",
      "source": [
        "import numpy\n",
        "\n",
        "matriz_1_1 = numpy.array([1, 2, 3]) # cria matriz 1 linha e 1 coluna\n",
        "\n",
        "matriz_2_2 = numpy.array([[1, 2],  [3, 4]]) # cria matriz 2 linha e 2 coluna\n",
        "\n",
        "matriz_2_3 = numpy.array([[1, 2, 3],  [4, 5, 6]]) # cria matriz 2 linha e 3 coluna\n",
        "\n",
        "print(f\"\\n matriz_1_1 = \\n\", matriz_1_1)\n",
        "print(f\"\\n matriz_2_2 = \\n\", matriz_2_2)\n",
        "print(f\"\\n matriz_2_3 = \\n\", matriz_2_3)\n"
      ],
      "metadata": {
        "colab": {
          "base_uri": "https://localhost:8080/"
        },
        "id": "jOSD-iFhGHJH",
        "outputId": "750f7eb4-0d48-4ae8-e876-1f97baa9ade9"
      },
      "execution_count": null,
      "outputs": [
        {
          "output_type": "stream",
          "name": "stdout",
          "text": [
            "\n",
            " matriz_1_1 = \n",
            " [1 2 3]\n",
            "\n",
            " matriz_2_2 = \n",
            " [[1 2]\n",
            " [3 4]]\n",
            "\n",
            " matriz_2_3 = \n",
            " [[1 2 3]\n",
            " [4 5 6]]\n"
          ]
        }
      ]
    },
    {
      "cell_type": "code",
      "source": [
        "def executar_busca_linear(lista, valor):\n",
        "  for elemento in lista:\n",
        "    if valor == elemento:\n",
        "      return True\n",
        "  return False\n",
        "\n",
        "import random\n",
        "\n",
        "lista = random.sample(range(1000), 50)\n",
        "print(sorted(lista))\n",
        "executar_busca_linear(lista, 10)\n"
      ],
      "metadata": {
        "colab": {
          "base_uri": "https://localhost:8080/"
        },
        "id": "yzNTI_T0XLCT",
        "outputId": "8717c2b8-1f08-4cfa-bfd3-f22894aafead"
      },
      "execution_count": null,
      "outputs": [
        {
          "output_type": "stream",
          "name": "stdout",
          "text": [
            "[2, 6, 54, 77, 98, 100, 105, 142, 145, 146, 160, 167, 174, 195, 230, 250, 253, 289, 306, 344, 356, 363, 376, 385, 441, 473, 474, 515, 521, 533, 560, 573, 584, 608, 627, 634, 649, 675, 688, 693, 735, 798, 799, 801, 804, 842, 923, 932, 935, 998]\n"
          ]
        },
        {
          "output_type": "execute_result",
          "data": {
            "text/plain": [
              "False"
            ]
          },
          "metadata": {},
          "execution_count": 5
        }
      ]
    },
    {
      "cell_type": "code",
      "source": [
        "def procurar_valor(lista, valor):\n",
        "  tamanho_lista = len(lista)\n",
        "  for i in range(tamanho_lista):\n",
        "    if valor == lista[i]: \n",
        "      return i\n",
        "  return None\n",
        "\n",
        "vogais = 'aeiou'\n",
        "resultado = procurar_valor(lista=vogais, valor='i')\n",
        "\n",
        "if resultado != None:\n",
        "  print(f\"Valor encontrado na posição {resultado}\")\n",
        "else:\n",
        "  print(\"Valor não encontrado\")\n"
      ],
      "metadata": {
        "colab": {
          "base_uri": "https://localhost:8080/"
        },
        "id": "AtdcMUuPbPIs",
        "outputId": "a3dab309-3be6-4202-fb87-c0c19ea3847a"
      },
      "execution_count": null,
      "outputs": [
        {
          "output_type": "stream",
          "name": "stdout",
          "text": [
            "Valor encontrado na posição 2\n"
          ]
        }
      ]
    },
    {
      "cell_type": "code",
      "source": [
        "def executar_busca_binaria(lista, valor):\n",
        "  minimo = 0\n",
        "  maximo = len(lista) - 1\n",
        "  while minimo <= maximo:\n",
        "    meio = (minimo + maximo) // 2\n",
        "    if valor < lista[meio]:\n",
        "      maximo = meio -1\n",
        "    elif valor > lista[meio]:\n",
        "      minimo = meio + 1\n",
        "    else:\n",
        "      return True\n",
        "  return False\n",
        "lista = list(range(1, 50))\n",
        "print(lista)\n",
        "\n",
        "print('\\n', executar_busca_binaria(lista=lista, valor=10))\n",
        "print('\\n', executar_busca_binaria(lista=lista, valor=200))\n",
        "\n"
      ],
      "metadata": {
        "colab": {
          "base_uri": "https://localhost:8080/"
        },
        "id": "m8oKWF-MmFuI",
        "outputId": "5b4a5a2c-0e75-403f-b4cf-81e398b013a1"
      },
      "execution_count": null,
      "outputs": [
        {
          "output_type": "stream",
          "name": "stdout",
          "text": [
            "[1, 2, 3, 4, 5, 6, 7, 8, 9, 10, 11, 12, 13, 14, 15, 16, 17, 18, 19, 20, 21, 22, 23, 24, 25, 26, 27, 28, 29, 30, 31, 32, 33, 34, 35, 36, 37, 38, 39, 40, 41, 42, 43, 44, 45, 46, 47, 48, 49]\n",
            "\n",
            " True\n",
            "\n",
            " False\n"
          ]
        }
      ]
    },
    {
      "cell_type": "code",
      "source": [
        "def executar_busca_linear(lista, valor):\n",
        "  tamanho_lista = len(lista)\n",
        "  for i in range(tamanho_lista):\n",
        "    if valor == lista[i]:\n",
        "      return True\n",
        "  return False\n",
        "\n",
        "def criar_lista_dedup(lista):\n",
        "  lista_dedup = []\n",
        "  for cpf in lista:\n",
        "    cpf = str(cpf)\n",
        "    cpf = cpf.replace(\"-\", \"\").replace(\".\", \"\")\n",
        "    if len(cpf) == 11:\n",
        "      if not executar_busca_linear(lista_dedup, cpf):\n",
        "        lista_dedup.append(cpf)\n",
        "  return lista_dedup\n",
        "\n",
        "def testar_funcao(lista_cpfs):\n",
        "  lista_dedup = criar_lista_dedup(lista_cpfs)\n",
        "  print(lista_dedup)\n",
        "lista_cpfs = ['111.111.111-11', '11111111111', '222.222.222-22', '333.333.333-33', '444.444.44444']\n",
        "\n",
        "testar_funcao(lista_cpfs)"
      ],
      "metadata": {
        "colab": {
          "base_uri": "https://localhost:8080/"
        },
        "id": "PR_BmQW3mjGX",
        "outputId": "ac4e1651-e770-4a8a-b4a8-3bf4a448d86b"
      },
      "execution_count": null,
      "outputs": [
        {
          "output_type": "stream",
          "name": "stdout",
          "text": [
            "['11111111111', '22222222222', '33333333333', '44444444444']\n"
          ]
        }
      ]
    },
    {
      "cell_type": "code",
      "source": [
        "import numpy\n",
        "import random\n",
        "m4 = numpy.random.randint(low=1, high=25, size=15).reshape(3, 5)\n",
        "def executar_busca_binaria(m4, valor):\n",
        "  minimo = 1\n",
        "  maximo = len(m4) - 1\n",
        "  while minimo <= maximo:\n",
        "    meio = (minimo + maximo) // 2\n",
        "    if valor < m4[meio]:\n",
        "      maximo = meio - 1\n",
        "    elif valor > m4[meio]:\n",
        "      minimo = meio + 1\n",
        "    else:\n",
        "      return True\n",
        "  return False\n",
        "\n",
        "m4 = list(range(1, 26))\n",
        "print(m4)\n",
        "def executar_busca_linear(m4, valor):\n",
        "  for elemento in m4:\n",
        "    if valor == elemento:\n",
        "      return True\n",
        "  return False\n",
        "m4 = random.sample(range(26), 15)\n",
        "\n",
        "print('\\n', executar_busca_binaria(m4=m4, valor=15))\n",
        "print('\\n', executar_busca_binaria(m4=m4, valor=25))\n",
        "\n",
        "print(sorted(m4))\n"
      ],
      "metadata": {
        "colab": {
          "base_uri": "https://localhost:8080/"
        },
        "id": "bymmXdJ7Jqwt",
        "outputId": "94551519-969c-4f25-d157-7d2e980244df"
      },
      "execution_count": 12,
      "outputs": [
        {
          "output_type": "stream",
          "name": "stdout",
          "text": [
            "[1, 2, 3, 4, 5, 6, 7, 8, 9, 10, 11, 12, 13, 14, 15, 16, 17, 18, 19, 20, 21, 22, 23, 24, 25]\n",
            "\n",
            " False\n",
            "\n",
            " False\n",
            "[4, 5, 6, 7, 8, 10, 11, 12, 13, 14, 16, 17, 18, 19, 21]\n"
          ]
        }
      ]
    },
    {
      "cell_type": "code",
      "source": [
        "lista = [10, 4, 1, 15, -3]\n",
        "\n",
        "lista_ordenada1 = sorted(lista)\n",
        "lista_ordenada2 = lista.sort()\n",
        "\n",
        "print('lista = ', lista, '\\n')\n",
        "print('lista_ordenada1 = ', lista_ordenada1)\n",
        "print('lista_ordenada2 = ', lista_ordenada2)\n",
        "print('lista = ', lista)"
      ],
      "metadata": {
        "colab": {
          "base_uri": "https://localhost:8080/"
        },
        "id": "AWvoQKz16wtX",
        "outputId": "09edb12c-7b8b-4377-b1a9-89e769b8624a"
      },
      "execution_count": 2,
      "outputs": [
        {
          "output_type": "stream",
          "name": "stdout",
          "text": [
            "lista =  [-3, 1, 4, 10, 15] \n",
            "\n",
            "lista_ordenada1 =  [-3, 1, 4, 10, 15]\n",
            "lista_ordenada2 =  None\n",
            "lista =  [-3, 1, 4, 10, 15]\n"
          ]
        }
      ]
    }
  ]
}